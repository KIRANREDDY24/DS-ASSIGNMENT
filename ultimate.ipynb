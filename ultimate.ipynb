{
 "cells": [
  {
   "cell_type": "code",
   "execution_count": 34,
   "metadata": {},
   "outputs": [
    {
     "name": "stdout",
     "output_type": "stream",
     "text": [
      "911100221003,s2m_test_21628@tests2m.com,FAC_5020,Category Spin,Grade 2,[I],6:15 pm,April 17,Present,lastchance\n",
      "911100221281,s2m_test_20281@tests2m.com,FAC_5015,In my head or real,Grade 4,[I],4:00 pm,April 17,Present,TEB2ASMS\n",
      "911100221265,s2m_test_20265@tests2m.com,FAC_5015,In my head or real?,Grade 3,[II],6:15 pm,April 17,Present,ntfpush\n",
      "911100221176,s2m_test_20177@tests2m.com,FAC_5009,Structure of a story,Grade 2,[III],6:15 pm,April 17,Present,ntfpush\n",
      "911100221327,s2m_test_20329@tests2m.com,FAC_5003,Category Spin,Grade 3,[II],11:15 am,April 18,Present,T1KRMSMS\n",
      "911100221346,s2m_test_20348@tests2m.com,FAC_5003,Category Spin,Grade 4,[II],11:15 am,April 18,Present,T1KRMSMS\n",
      "911100221360,s2m_test_20363@tests2m.com,FAC_5017,Word Whiz,Grade 1,[II],11:15 am,April 18,Present,rfmsms\n",
      "911100221089,s2m_test_20091@tests2m.com,#N/A,Word Whiz,Grade 2,[I],11:15 am,April 18,,TEB11SMS\n",
      "911100221381,s2m_test_20384@tests2m.com,FAC_5002,Spelling Star,Grade 4,[I],4:00 pm,April 18,Present,rfmsms\n",
      "911100221373,s2m_test_20376@tests2m.com,FAC_5022,Play with Punctuation,Grade 3,[II],4:00 pm,April 18,Present,rfmsms\n",
      "911100221411,s2m_test_20414@tests2m.com,FAC_5022,Play with Punctuation,Grade 4,[II],4:00 pm,April 18,Present,rfmsms\n",
      "911100221413,s2m_test_20416@tests2m.com,FAC_5009,Sum it up,Grade 2,[III],4:00 pm,April 18,Present,rfmsms\n",
      "911100221426,s2m_test_20430@tests2m.com,FAC_5022,Play with Punctuation,Grade 3,[II],4:00 pm,April 18,Present,rfmsms\n",
      "911100221462,s2m_test_20466@tests2m.com,FAC_5009,Rocking with rhymes,Grade 2,[III],6:15 pm,April 18,Absent,rfmsms\n",
      "911100221434,s2m_test_20438@tests2m.com,FAC_5019,Word Whiz,Grade 3,[III],6:15 pm,April 18,Present,rfmsms\n",
      "911100221478,s2m_test_20482@tests2m.com,FAC_5019,Word Whiz,Grade 4,[III],6:15 pm,April 18,Present,TEB3SMS\n",
      "911100221180,s2m_test_20181@tests2m.com,FAC_5012,Name it,Grade 2,[II],6:15 pm,April 18,Present,ntfpush\n",
      "911100221656,s2m_test_20664@tests2m.com,FAC_5002,In my head or real?,Grade 3,[II],11:15 am,April 19,Present,ntfuiuser\n",
      "911100221111,s2m_test_20112@tests2m.com,FAC_5008,Making connections,Grade 3,[III],11:15 am,April 19,Present,TEB12SMS\n",
      "911100221141,s2m_test_20142@tests2m.com,FAC_5008,Making connections,Grade 4,[III],11:15 am,April 19,Present,TEB11SMS\n",
      "911100221143,s2m_test_20144@tests2m.com,FAC_5008,Making connections,Grade 3,[III],11:15 am,April 19,Present,ntfpush\n",
      "911100221144,s2m_test_20145@tests2m.com,FAC_5008,Making connections,Grade 4,[III],11:15 am,April 19,Present,ntfpush\n",
      "911100221127,s2m_test_20128@tests2m.com,FAC_5015,Name it,Grade 1,[I],4:00 pm,April 19,Present,ntfpush\n",
      "911100221451,s2m_test_20455@tests2m.com,FAC_5022,In my mind's eye,Grade 3,[III],4:00 pm,April 19,Present,T1KRMSMS\n",
      "911100221651,s2m_test_20658@tests2m.com,FAC_5024,Play with Punctuations,Grade 4,[II],4:00 pm,April 19,Present,T1KRMSMS\n",
      "911100221641,s2m_test_20647@tests2m.com,FAC_5009,Sum it up,Grade 4,[I],6:15 pm,April 19,Present,rfmsms\n",
      "911100221503,s2m_test_20507@tests2m.com,FAC_5024,Word Whiz,Grade 1,[I],6:15 pm,April 19,Present,TEB3SMS\n",
      "911100221579,s2m_test_20582@tests2m.com,FAC_5016,Rocking with rhymes,Grade 2,[III],6:15 pm,April 19,Present,ntfuiuser\n",
      "911100221564,s2m_test_20568@tests2m.com,FAC_5026,Category Spin,Grade 3,[II],11:45 am,April 20,Present,TEB3SMS\n",
      "911100221566,s2m_test_20570@tests2m.com,FAC_5011,Rocking with rhymes,Grade 3,[I],11:45 am,April 20,Present,T1KRMSMS\n",
      "911100221165,s2m_test_20166@tests2m.com,FAC_5028,Name it,Grade 4,[IV],11:45 am,April 20,Present,ntfpush\n",
      "911100221524,s2m_test_20528@tests2m.com,FAC_5025,Name it,Grade 2,[II],11:45 am,April 20,Absent,TEB3SMS\n",
      "911100221727,s2m_test_20737@tests2m.com,FAC_5025,Name it,Grade 2,[II],11:45 am,April 20,Present,TEB4SMS\n",
      "911100221506,s2m_test_20510@tests2m.com,FAC_5009,In my head or real?,Grade 2,[II],6:00 pm,April 20,Present,TEB3SMS\n",
      "911100221527,s2m_test_20531@tests2m.com,FAC_5009,In my head or real?,Grade 2,[II],6:00 pm,April 20,Present,T1KRMSMS\n",
      "911100221817,s2m_test_20829@tests2m.com,FAC_5029,In my mind's eye,Grade 4,[II],11:45 am,April 21,Present,rfmsms\n",
      "911100221802,s2m_test_20814@tests2m.com,FAC_5015,Word Whiz,Grade 4,[II],6:00 pm,April 21,Present,TEB4SMS\n",
      "911100221730,s2m_test_20740@tests2m.com,FAC_5031,In my mind's eye,Grade 2,[II],6:00 pm,April 21,Present,TEB4SMS\n",
      "911100222054,s2m_test_21064@tests2m.com,FAC_5027,Name it,Grade 4,[III],6:00 pm,April 22,Present,TEB5SMS\n",
      "911100222033,s2m_test_21043@tests2m.com,FAC_5031,In my mind's eye,Grade 1,[III],6:00 pm,April 22,Present,TEB5SMS\n",
      "911100221948,s2m_test_20961@tests2m.com,FAC_5038,In my mind's eye,Grade 1,[II],6:00 pm,April 22,Present,TEB5SMS\n",
      "911100221895,s2m_test_21782@tests2m.com,FAC_5029,Name it,Grade 4,[II],6:00 pm,April 22,Present,TEB5SMS\n",
      "911100221178,s2m_test_20179@tests2m.com,FAC_5027,Name it,Grade 4,[III],6:00 pm,April 22,Absent,TEB11SMS\n",
      "911100222074,s2m_test_21083@tests2m.com,FAC_5031,In my mind's eye,Grade 1,[III],6:00 pm,April 22,Present,TEB5SMS\n",
      "911100222080,s2m_test_21089@tests2m.com,FAC_5029,Name it,Grade 3,[II],6:00 pm,April 22,Present,b1rmsms\n",
      "911100222070,s2m_test_21079@tests2m.com,FAC_5031,In my mind's eye,Grade 2,[III],6:00 pm,April 22,Present,b1rmsms\n",
      "911100222012,s2m_test_21022@tests2m.com,FAC_5027,Word Whiz,Grade 2,[I],11:45 am,April 23,Present,TEB5SMS\n",
      "911100221994,s2m_test_21005@tests2m.com,FAC_5039,Word Whiz,Grade 1,[III],11:45 am,April 23,Present,TEB5SMS\n",
      "911100221554,s2m_test_20558@tests2m.com,FAC_5036,In my head or real?,Grade 4,[III],11:45 am,April 23,,TEB3SMS\n",
      "911100221839,s2m_test_20853@tests2m.com,FAC_5013,In my mind's eye,Grade 1,[II],6:00 pm,April 23,Present,TEB5SMS\n",
      "911100221947,s2m_test_20960@tests2m.com,FAC_5039,Word Whiz,Grade 4,[III],6:00 pm,April 23,Present,b1rmsms\n",
      "911100221592,s2m_test_21790@tests2m.com,FAC_5031,Rocking with Rhymes,Grade 2,[III],6:00 pm,April 23,Present,rfmsms\n",
      "911100221616,s2m_test_20619@tests2m.com,FAC_5006,Word Whiz,Grade 2,[II],6:00 pm,April 24,Cancelled,TEB3SMS\n",
      "911100222224,s2m_test_21237@tests2m.com,FAC_5044,Rocking with rhymes,Grade 2,[I],11:45 am,April 25,Present,b2rmsms\n",
      "911100222236,s2m_test_21249@tests2m.com,FAC_5039,Word Whiz,Grade 3,[II],11:45 am,April 25,Present,b2rmsms\n",
      "911100222288,s2m_test_21301@tests2m.com,FAC_5008,Making Connections,Grade 4,[I],4:00 pm,April 25,Present,adarsh\n",
      "911100221661,s2m_test_20670@tests2m.com,FAC_5052,Structure of a story,Grade 1,[II],11:45 am,April 26,Present,rfmsms\n",
      "911100221835,s2m_test_20849@tests2m.com,FAC_5046,Making connections,Grade 3,[I],11:45 am,April 26,Present,TEB4SMS\n",
      "911100222391,s2m_test_21404@tests2m.com,FAC_5052,Name it,Grade 4,[II],11:45 am,April 27,Present,b3rmsms\n"
     ]
    }
   ],
   "source": [
    "import csv\n",
    "with open(\"ultimate.csv\", newline='') as csvfile:\n",
    "    spamreader = csv.reader(csvfile)\n",
    "    with open(\"source.csv\", newline='') as csvfile1:\n",
    "        spamreader1 = csv.reader(csvfile1)\n",
    "        l = []\n",
    "        l1 = []\n",
    "        for j in spamreader1:\n",
    "            l.append(j)\n",
    "        for i in spamreader:\n",
    "            l1.append(i)\n",
    "        c = 0    \n",
    "        for i in l1:\n",
    "            for j in l:\n",
    "                if i[0] == j[0]:\n",
    "                    print(i[0],i[1],i[2],i[3],i[4],i[5],i[6],i[7],i[8],j[1],sep = \",\")"
   ]
  },
  {
   "cell_type": "code",
   "execution_count": null,
   "metadata": {},
   "outputs": [],
   "source": []
  }
 ],
 "metadata": {
  "kernelspec": {
   "display_name": "Python 3",
   "language": "python",
   "name": "python3"
  },
  "language_info": {
   "codemirror_mode": {
    "name": "ipython",
    "version": 3
   },
   "file_extension": ".py",
   "mimetype": "text/x-python",
   "name": "python",
   "nbconvert_exporter": "python",
   "pygments_lexer": "ipython3",
   "version": "3.7.4"
  }
 },
 "nbformat": 4,
 "nbformat_minor": 2
}

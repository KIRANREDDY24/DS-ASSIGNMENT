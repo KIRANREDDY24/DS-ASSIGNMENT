{
 "cells": [
  {
   "cell_type": "code",
   "execution_count": 41,
   "metadata": {},
   "outputs": [
    {
     "name": "stdout",
     "output_type": "stream",
     "text": [
      "fREADom Trial Class - Grades 1, 2 [I] 06:15pm - Friday, April 17, 2020 Grade 2 911100221003 s2m_test_21628@tests2m.com Present\n",
      "fREADom Trial - Grades 3, 4  [I] 04:00pm - Friday, April 17, 2020 Grade 4 911100221281 s2m_test_20281@tests2m.com Present\n",
      "fREADom Trial - Grades 3, 4  [II] 06:15pm - Friday, April 17, 2020 Grade 3 911100221265 s2m_test_20265@tests2m.com Present\n",
      "fREADom Trial - Grades 1,2 [III] 06:15pm - Friday, April 17, 2020 Grade 2 911100221176 s2m_test_20177@tests2m.com Present\n",
      "fREADom Trial - Grades 3, 4  [II] 11:15am - Saturday, April 18, 2020 Grade 3 911100221327 s2m_test_20329@tests2m.com Present\n",
      "fREADom Trial - Grades 3, 4  [II] 11:15am - Saturday, April 18, 2020 Grade 4 911100221346 s2m_test_20348@tests2m.com Present\n",
      "fREADom Trial - Grades 1,2 [II] 11:15am - Saturday, April 18, 2020 Grade 1 911100221360 s2m_test_20363@tests2m.com Present\n",
      "fREADom Trial Class - Grades 1, 2 [I] 11:15am - Saturday, April 18, 2020 Grade 2 911100221089 s2m_test_20091@tests2m.com \n",
      "fREADom Trial - Grades 3, 4  [I] 04:00pm - Saturday, April 18, 2020 Grade 4 911100221381 s2m_test_20384@tests2m.com Present\n",
      "fREADom Trial - Grades 3, 4  [II] 04:00pm - Saturday, April 18, 2020 Grade 3 911100221373 s2m_test_20376@tests2m.com Present\n",
      "fREADom Trial - Grades 3, 4  [II] 04:00pm - Saturday, April 18, 2020 Grade 4 911100221411 s2m_test_20414@tests2m.com Present\n",
      "fREADom Trial - Grades 1,2 [III] 04:00pm - Saturday, April 18, 2020 Grade 2 911100221413 s2m_test_20416@tests2m.com Present\n",
      "fREADom Trial - Grades 3, 4  [II] 04:00pm - Saturday, April 18, 2020 Grade 3 911100221426 s2m_test_20430@tests2m.com Present\n",
      "fREADom Trial - Grades 1,2 [III] 06:15pm - Saturday, April 18, 2020 Grade 2 911100221462 s2m_test_20466@tests2m.com Absent\n",
      "fREADom Trial - Grades 3, 4  [III] 06:15pm - Saturday, April 18, 2020 Grade 3 911100221434 s2m_test_20438@tests2m.com Present\n",
      "fREADom Trial - Grades 3, 4  [III] 06:15pm - Saturday, April 18, 2020 Grade 4 911100221478 s2m_test_20482@tests2m.com Present\n",
      "fREADom Trial - Grades 1,2 [II] 06:15pm - Saturday, April 18, 2020 Grade 2 911100221180 s2m_test_20181@tests2m.com Present\n",
      "fREADom Trial - Grades 3, 4  [II] 11:15am - Sunday, April 19, 2020 Grade 3 911100221656 s2m_test_20664@tests2m.com Present\n",
      "fREADom Trial - Grades 3, 4  [III] 11:15am - Sunday, April 19, 2020 Grade 3 911100221111 s2m_test_20112@tests2m.com Present\n",
      "fREADom Trial - Grades 3, 4  [III] 11:15am - Sunday, April 19, 2020 Grade 4 911100221141 s2m_test_20142@tests2m.com Present\n",
      "fREADom Trial - Grades 3, 4  [III] 11:15am - Sunday, April 19, 2020 Grade 3 911100221143 s2m_test_20144@tests2m.com Present\n",
      "fREADom Trial - Grades 3, 4  [III] 11:15am - Sunday, April 19, 2020 Grade 4 911100221144 s2m_test_20145@tests2m.com Present\n",
      "fREADom Trial Class - Grades 1, 2 [I] 04:00pm - Sunday, April 19, 2020 Grade 1 911100221127 s2m_test_20128@tests2m.com Present\n",
      "fREADom Trial - Grades 3, 4  [III] 04:00pm - Sunday, April 19, 2020 Grade 3 911100221451 s2m_test_20455@tests2m.com Present\n",
      "fREADom Trial - Grades 3, 4  [II] 04:00pm - Sunday, April 19, 2020 Grade 4 911100221651 s2m_test_20658@tests2m.com Present\n",
      "fREADom Trial - Grades 3, 4  [I] 06:15pm - Sunday, April 19, 2020 Grade 4 911100221641 s2m_test_20647@tests2m.com Present\n",
      "fREADom Trial Class - Grades 1, 2 [I] 06:15pm - Sunday, April 19, 2020 Grade 1 911100221503 s2m_test_20507@tests2m.com Present\n",
      "fREADom Trial - Grades 1,2 [III] 06:15pm - Sunday, April 19, 2020 Grade 2 911100221579 s2m_test_20582@tests2m.com Present\n",
      "fREADom Trial - Grades 3, 4  [II] 11:45am - Monday, April 20, 2020 Grade 3 911100221564 s2m_test_20568@tests2m.com Present\n",
      "fREADom Trial - Grades 3, 4  [I] 11:45am - Monday, April 20, 2020 Grade 3 911100221566 s2m_test_20570@tests2m.com Present\n",
      "fREADom Trial - Grades 3, 4 [IV]  11:45am - Monday, April 20, 2020 Grade 4 911100221165 s2m_test_20166@tests2m.com Present\n",
      "fREADom Trial - Grades 1,2 [II] 11:45am - Monday, April 20, 2020 Grade 2 911100221524 s2m_test_20528@tests2m.com Absent\n",
      "fREADom Trial - Grades 1,2 [II] 11:45am - Monday, April 20, 2020 Grade 2 911100221727 s2m_test_20737@tests2m.com Present\n",
      "fREADom Trial - Grades 1,2 [II] 06:00pm - Monday, April 20, 2020 Grade 2 911100221506 s2m_test_20510@tests2m.com Present\n",
      "fREADom Trial - Grades 1,2 [II] 06:00pm - Monday, April 20, 2020 Grade 2 911100221527 s2m_test_20531@tests2m.com Present\n",
      "fREADom Trial - Grades 3, 4  [II] 11:45am - Tuesday, April 21, 2020 Grade 4 911100221817 s2m_test_20829@tests2m.com Present\n",
      "fREADom Trial - Grades 3, 4  [II] 06:00pm - Tuesday, April 21, 2020 Grade 4 911100221802 s2m_test_20814@tests2m.com Present\n",
      "fREADom Trial - Grades 1,2 [II] 06:00pm - Tuesday, April 21, 2020 Grade 2 911100221730 s2m_test_20740@tests2m.com Present\n",
      "fREADom Trial - Grades 3, 4  [III] 06:00pm - Wednesday, April 22, 2020 Grade 4 911100222054 s2m_test_21064@tests2m.com Present\n",
      "fREADom Trial - Grades 1,2 [III] 06:00pm - Wednesday, April 22, 2020 Grade 1 911100222033 s2m_test_21043@tests2m.com Present\n",
      "fREADom Trial - Grades 1,2 [II] 06:00pm - Wednesday, April 22, 2020 Grade 1 911100221948 s2m_test_20961@tests2m.com Present\n",
      "fREADom Trial - Grades 3, 4  [II] 06:00pm - Wednesday, April 22, 2020 Grade 4 911100221895 s2m_test_21782@tests2m.com Present\n",
      "fREADom Trial - Grades 3, 4  [III] 06:00pm - Wednesday, April 22, 2020 Grade 4 911100221178 s2m_test_20179@tests2m.com Absent\n",
      "fREADom Trial - Grades 1,2 [III] 06:00pm - Wednesday, April 22, 2020 Grade 1 911100222074 s2m_test_21083@tests2m.com Present\n",
      "fREADom Trial - Grades 3, 4  [II] 06:00pm - Wednesday, April 22, 2020 Grade 3 911100222080 s2m_test_21089@tests2m.com Present\n",
      "fREADom Trial - Grades 1,2 [III] 06:00pm - Wednesday, April 22, 2020 Grade 2 911100222070 s2m_test_21079@tests2m.com Present\n",
      "fREADom Trial Class - Grades 1, 2 [I] 11:45am - Thursday, April 23, 2020 Grade 2 911100222012 s2m_test_21022@tests2m.com Present\n",
      "fREADom Trial - Grades 1,2 [III] 11:45am - Thursday, April 23, 2020 Grade 1 911100221994 s2m_test_21005@tests2m.com Present\n",
      "fREADom Trial - Grades 3, 4  [III] 11:45am - Thursday, April 23, 2020 Grade 4 911100221554 s2m_test_20558@tests2m.com \n",
      "fREADom Trial - Grades 1,2 [II] 06:00pm - Thursday, April 23, 2020 Grade 1 911100221839 s2m_test_20853@tests2m.com Present\n",
      "fREADom Trial - Grades 3, 4  [III] 06:00pm - Thursday, April 23, 2020 Grade 4 911100221947 s2m_test_20960@tests2m.com Present\n",
      "fREADom Trial - Grades 1,2 [III] 06:00pm - Thursday, April 23, 2020 Grade 2 911100221592 s2m_test_21790@tests2m.com Present\n",
      "fREADom Trial - Grades 1,2 [II] 06:00pm - Friday, April 24, 2020 Grade 2 911100221616 s2m_test_20619@tests2m.com Cancelled\n",
      "fREADom Trial Class - Grades 1, 2 [I] 11:45am - Saturday, April 25, 2020 Grade 2 911100222224 s2m_test_21237@tests2m.com Present\n",
      "fREADom Trial - Grades 3, 4  [II] 11:45am - Saturday, April 25, 2020 Grade 3 911100222236 s2m_test_21249@tests2m.com Present\n",
      "fREADom Trial - Grades 3, 4  [I] 04:00pm - Saturday, April 25, 2020 Grade 4 911100222288 s2m_test_21301@tests2m.com Present\n",
      "fREADom Trial - Grades 1,2 [II] 11:45am - Sunday, April 26, 2020 Grade 1 911100221661 s2m_test_20670@tests2m.com Present\n",
      "fREADom Trial - Grades 3, 4  [I] 11:45am - Sunday, April 26, 2020 Grade 3 911100221835 s2m_test_20849@tests2m.com Present\n",
      "fREADom Trial - Grades 3, 4  [II] 11:45am - Monday, April 27, 2020 Grade 4 911100222391 s2m_test_21404@tests2m.com Present\n"
     ]
    }
   ],
   "source": [
    "import csv\n",
    "with open(\"assignment_data.xlsx - Booked Users.csv\", newline='') as csvfile:\n",
    "    spamreader = csv.reader(csvfile)\n",
    "    next(spamreader)\n",
    "    l = ['911100221176', '911100222070', '911100221579', '911100221144', '911100221994', '911100221641', '911100221411', '911100221895', '911100221373', '911100221462', '911100221947', '911100222080', '911100222288', '911100221948', '911100221434', '911100222074', '911100221616', '911100222391', '911100221835', '911100221802', '911100221661', '911100221839', '911100221451', '911100222224', '911100221327', '911100221592', '911100221527', '911100221730', '911100221111', '911100221817', '911100222054', '911100221360', '911100221381', '911100221566', '911100221478', '911100221727', '911100221503', '911100222236', '911100221651', '911100221564', '911100221281', '911100221413', '911100221506', '911100221524', '911100221089', '911100221180', '911100221178', '911100221127', '911100221003', '911100221165', '911100221143', '911100222012', '911100222033', '911100221265', '911100221346', '911100221656', '911100221554', '911100221426', '911100221141']\n",
    "    #lu499bid = ['911100222879', '911100222887', '911100222891', '911100222895', '911100222896', '911100222898', '911100222882', '911100222900', '911100222885', '911100222904', '911100222910', '911100222911', '911100222914', '911100222918', '911100222919', '911100222921', '911100222925', '911100222932', '911100222897', '911100222939', '911100222559', '911100222899', '911100222901', '911100222951', '911100222922', '911100222952', '911100222909', '911100221297', '911100222920', '911100222967', '911100222972', '911100222973', '911100222975', '911100222977', '911100222981', '911100222982', '911100222984', '911100222987', '911100222988', '911100222989', '911100222990', '911100222970', '911100222991', '911100222993', '911100222994', '911100222997', '911100222967', '911100222999', '911100223000', '911100222783', '911100223001', '911100223003', '911100223004', '911100223005', '911100223006', '911100223007', '911100222978', '911100223009', '911100223011', '911100223013', '911100223014', '911100223015', '911100223016', '911100223017', '911100223018', '911100222964', '911100223020', '911100223021', '911100223021', '911100223022', '911100223023', '911100222471', '911100223025', '911100223026', '911100223027', '911100223028', '911100223029', '911100223030', '911100223031', '911100223032', '911100223034', '911100223035', '911100223036', '911100223037', '911100222977', '911100223038', '911100222931', '911100223040', '911100223041', '911100222734', '911100223042', '911100223043', '911100223045', '911100223046', '911100223048', '911100223049', '911100223050', '911100223052', '911100223054', '911100223055', '911100223056', '911100222877', '911100223058', '911100223059', '911100223060', '911100223061', '911100223062', '911100223063', '911100222665', '911100223064', '911100223065', '911100223066', '911100223067', '911100221015', '911100222976', '911100223070', '911100223071', '911100223072', '911100223074', '911100223077', '911100223078', '911100223079', '911100223080', '911100223081', '911100223082', '911100223083', '911100223084', '911100223085', '911100223086', '911100221925', '911100223087', '911100223088', '911100223089', '911100223090', '911100223091', '911100223092', '911100223093', '911100223094', '911100223095', '911100222896', '911100223096', '911100223097', '911100223098', '911100222460', '911100222530', '911100222513', '911100222991', '911100223100', '911100223101', '911100223102', '911100223103', '911100222961', '911100222472', '911100223104', '911100223105', '911100222562', '911100222563', '911100222526', '911100221265', '911100221327', '911100223107', '911100223108', '911100221003', '911100222839', '911100222536', '911100221176', '911100223109', '911100221426', '911100223110', '911100223111', '911100223112', '911100221360', '911100221346', '911100223114', '911100221656', '911100221478', '911100223115', '911100222546', '911100223116', '911100221413', '911100222623', '911100221411', '911100221434', '911100221180', '911100221089', '911100221111', '911100221141', '911100221579', '911100223117', '911100221381', '911100221373', '911100223118', '911100221727', '911100222557', '911100223119', '911100221144', '911100222713', '911100222579', '911100221564', '911100223120', '911100221641', '911100221527', '911100223121', '911100221506', '911100221651', '911100223122', '911100223123', '911100222733', '911100221817', '911100223042', '911100223124', '911100222070', '911100221730', '911100221802', '911100223125', '911100223126', '911100222054', '911100222939', '911100222012', '911100221566', '911100223127', '911100221994', '911100221948', '911100222767', '911100223128', '911100221178', '911100223129', '911100222897', '911100223130', '911100221524', '911100223131', '911100223132', '911100222589', '911100221895', '911100222755', '911100221839', '911100221592', '911100221947', '911100222993', '911100223134', '911100222822', '911100222033', '911100222224', '911100222821', '911100222812', '911100222288', '911100221462', '911100222080', '911100223135', '', '911100222236', '', '', '911100221503', '911100221127', '911100223136', '911100221835', '911100222074', '911100221281', '911100223138', '911100221616', '911100223139', '911100223140', '911100223141', '911100223142', '911100223143', '911100222851', '911100223138', '911100222391']        #lu499beid = ['s2m_test_21903@tests2m.com', 's2m_test_21911@tests2m.com', 's2m_test_21915@tests2m.com', 's2m_test_21919@tests2m.com', 's2m_test_21920@tests2m.com', 's2m_test_21922@tests2m.com', 's2m_test_21906@tests2m.com', 's2m_test_21924@tests2m.com', 's2m_test_21909@tests2m.com', 's2m_test_21928@tests2m.com', 's2m_test_21934@tests2m.com', 's2m_test_21935@tests2m.com', 's2m_test_21938@tests2m.com', 's2m_test_21942@tests2m.com', 's2m_test_21943@tests2m.com', 's2m_test_21945@tests2m.com', 's2m_test_21949@tests2m.com', 's2m_test_21956@tests2m.com', 's2m_test_21921@tests2m.com', 's2m_test_21963@tests2m.com', 's2m_test_21964@tests2m.com', 's2m_test_21923@tests2m.com', 's2m_test_21925@tests2m.com', 's2m_test_21976@tests2m.com', 's2m_test_21946@tests2m.com', 's2m_test_21977@tests2m.com', 's2m_test_21933@tests2m.com', 's2m_test_20297@tests2m.com', 's2m_test_21944@tests2m.com', 's2m_test_21992@tests2m.com', '', '', '', 's2m_test_21999@tests2m.com', 's2m_test_22003@tests2m.com', 's2m_test_22004@tests2m.com', 's2m_test_22006@tests2m.com', 's2m_test_22009@tests2m.com', 's2m_test_21894@tests2m.com', 's2m_test_22010@tests2m.com', 's2m_test_22011@tests2m.com', 's2m_test_21995@tests2m.com', 's2m_test_22012@tests2m.com', 's2m_test_22014@tests2m.com', 's2m_test_22015@tests2m.com', 's2m_test_22018@tests2m.com', 's2m_test_22020@tests2m.com', 's2m_test_22021@tests2m.com', 's2m_test_22022@tests2m.com', 's2m_test_21807@tests2m.com', 's2m_test_22023@tests2m.com', 's2m_test_22025@tests2m.com', 's2m_test_22026@tests2m.com', 's2m_test_22027@tests2m.com', 's2m_test_22028@tests2m.com', '', 's2m_test_22000@tests2m.com', 's2m_test_22030@tests2m.com', 's2m_test_20227@tests2m.com', 's2m_test_22033@tests2m.com', 's2m_test_22034@tests2m.com', 's2m_test_22035@tests2m.com', 's2m_test_22036@tests2m.com', 's2m_test_22037@tests2m.com', 's2m_test_22038@tests2m.com', 's2m_test_21989@tests2m.com', 's2m_test_22040@tests2m.com', 's2m_test_22041@tests2m.com', 's2m_test_22041@tests2m.com', 's2m_test_22042@tests2m.com', 's2m_test_22043@tests2m.com', 's2m_test_21486@tests2m.com', 's2m_test_22045@tests2m.com', '', '', 's2m_test_22046@tests2m.com', 's2m_test_22047@tests2m.com', 's2m_test_22048@tests2m.com', 's2m_test_22049@tests2m.com', 's2m_test_22050@tests2m.com', 's2m_test_22052@tests2m.com', 's2m_test_22053@tests2m.com', 's2m_test_22054@tests2m.com', '', 's2m_test_21999@tests2m.com', 's2m_test_22055@tests2m.com', 's2m_test_22057@tests2m.com', 's2m_test_22058@tests2m.com', 's2m_test_22059@tests2m.com', 's2m_test_21753@tests2m.com', 's2m_test_22060@tests2m.com', 's2m_test_22061@tests2m.com', 's2m_test_22063@tests2m.com', 's2m_test_22064@tests2m.com', '', 's2m_test_22066@tests2m.com', 's2m_test_22067@tests2m.com', 's2m_test_22069@tests2m.com', 's2m_test_22071@tests2m.com', '', '', 's2m_test_21901@tests2m.com', 's2m_test_22073@tests2m.com', 's2m_test_22074@tests2m.com', 's2m_test_22075@tests2m.com', 's2m_test_22076@tests2m.com', 's2m_test_22077@tests2m.com', 's2m_test_22078@tests2m.com', 's2m_test_21682@tests2m.com', '', 's2m_test_22080@tests2m.com', 's2m_test_22081@tests2m.com', 's2m_test_22082@tests2m.com', 's2m_test_20016@tests2m.com', 's2m_test_21998@tests2m.com', 's2m_test_22085@tests2m.com', 's2m_test_22086@tests2m.com', 's2m_test_22087@tests2m.com', 's2m_test_22089@tests2m.com', 's2m_test_22092@tests2m.com', 's2m_test_22093@tests2m.com', 's2m_test_22094@tests2m.com', 's2m_test_22095@tests2m.com', 's2m_test_22096@tests2m.com', 's2m_test_22097@tests2m.com', 's2m_test_22098@tests2m.com', 's2m_test_22099@tests2m.com', 's2m_test_22100@tests2m.com', 's2m_test_22101@tests2m.com', 's2m_test_20164@tests2m.com', 's2m_test_22102@tests2m.com', 's2m_test_22103@tests2m.com', 's2m_test_22104@tests2m.com', 's2m_test_22105@tests2m.com', 's2m_test_22106@tests2m.com', 's2m_test_22107@tests2m.com', 's2m_test_22108@tests2m.com', '', 's2m_test_22109@tests2m.com', 's2m_test_21920@tests2m.com', 's2m_test_22111@tests2m.com', 's2m_test_22112@tests2m.com', 's2m_test_22113@tests2m.com', 's2m_test_21475@tests2m.com', '', '', 's2m_test_22012@tests2m.com', 's2m_test_22115@tests2m.com', 's2m_test_22116@tests2m.com', '', 's2m_test_22117@tests2m.com', 's2m_test_21986@tests2m.com', 's2m_test_21487@tests2m.com', 's2m_test_22118@tests2m.com', 's2m_test_22119@tests2m.com', 's2m_test_21575@tests2m.com', 's2m_test_21576@tests2m.com', 's2m_test_22120@tests2m.com', 's2m_test_20265@tests2m.com', 's2m_test_22122@tests2m.com', 's2m_test_22123@tests2m.com', 's2m_test_22124@tests2m.com', '', 's2m_test_21864@tests2m.com', 's2m_test_21549@tests2m.com', 's2m_test_20177@tests2m.com', 's2m_test_22125@tests2m.com', 's2m_test_20430@tests2m.com', 's2m_test_22126@tests2m.com', 's2m_test_22127@tests2m.com', 's2m_test_22128@tests2m.com', 's2m_test_20363@tests2m.com', 's2m_test_20348@tests2m.com', 's2m_test_22130@tests2m.com', 's2m_test_20664@tests2m.com', 's2m_test_20482@tests2m.com', 's2m_test_22131@tests2m.com', 's2m_test_21558@tests2m.com', 's2m_test_20144@tests2m.com', 's2m_test_20416@tests2m.com', 's2m_test_22132@tests2m.com', 's2m_test_20414@tests2m.com', 's2m_test_20438@tests2m.com', 's2m_test_20181@tests2m.com', 's2m_test_22133@tests2m.com', 's2m_test_20112@tests2m.com', 's2m_test_20142@tests2m.com', 's2m_test_20582@tests2m.com', 's2m_test_22134@tests2m.com', 's2m_test_22135@tests2m.com', 's2m_test_20376@tests2m.com', 's2m_test_22136@tests2m.com', 's2m_test_20737@tests2m.com', 's2m_test_21569@tests2m.com', 's2m_test_22137@tests2m.com', 's2m_test_20145@tests2m.com', 's2m_test_21735@tests2m.com', 's2m_test_21592@tests2m.com', 's2m_test_20568@tests2m.com', 's2m_test_22138@tests2m.com', 's2m_test_20647@tests2m.com', 's2m_test_20531@tests2m.com', 's2m_test_22139@tests2m.com', 's2m_test_20510@tests2m.com', 's2m_test_20658@tests2m.com', '', 's2m_test_22140@tests2m.com', 's2m_test_21752@tests2m.com', 's2m_test_20829@tests2m.com', 's2m_test_22060@tests2m.com', 's2m_test_22141@tests2m.com', 's2m_test_21079@tests2m.com', 's2m_test_20740@tests2m.com', 's2m_test_20814@tests2m.com', '', '', 's2m_test_21064@tests2m.com', 's2m_test_21963@tests2m.com', 's2m_test_21022@tests2m.com', 's2m_test_20570@tests2m.com', 's2m_test_22142@tests2m.com', 's2m_test_21005@tests2m.com', 's2m_test_20961@tests2m.com', 's2m_test_21791@tests2m.com', 's2m_test_22143@tests2m.com', 's2m_test_20179@tests2m.com', 's2m_test_22144@tests2m.com', 's2m_test_21921@tests2m.com', 's2m_test_22145@tests2m.com', 's2m_test_22146@tests2m.com', 's2m_test_22147@tests2m.com', 's2m_test_22148@tests2m.com', 's2m_test_22150@tests2m.com', 's2m_test_21782@tests2m.com', 's2m_test_21773@tests2m.com', 's2m_test_20853@tests2m.com', 's2m_test_21790@tests2m.com', 's2m_test_20558@tests2m.com', 's2m_test_22014@tests2m.com', 's2m_test_22151@tests2m.com', 's2m_test_22152@tests2m.com', 's2m_test_21043@tests2m.com', 's2m_test_21237@tests2m.com', 's2m_test_21845@tests2m.com', 's2m_test_21836@tests2m.com', 's2m_test_21301@tests2m.com', 's2m_test_20466@tests2m.com', 's2m_test_21089@tests2m.com', 's2m_test_22153@tests2m.com', '', 's2m_test_22154@tests2m.com', 's2m_test_20670@tests2m.com', 's2m_test_20455@tests2m.com', 's2m_test_20507@tests2m.com', 's2m_test_20128@tests2m.com', 's2m_test_22155@tests2m.com', 's2m_test_20849@tests2m.com', 's2m_test_21083@tests2m.com', 's2m_test_22157@tests2m.com', 's2m_test_22158@tests2m.com', 's2m_test_20619@tests2m.com', 's2m_test_22159@tests2m.com', 's2m_test_20166@tests2m.com', 's2m_test_22160@tests2m.com', 's2m_test_22161@tests2m.com', 's2m_test_22162@tests2m.com', 's2m_test_21876@tests2m.com', 's2m_test_22158@tests2m.com', 's2m_test_21404@tests2m.com']\n",
    "    lik = []\n",
    "    count = 0\n",
    "    for row in spamreader:\n",
    "        if row[4] in l and row[4] not in lik:\n",
    "            lik.append(row[4])\n",
    "            print(row[0],row[2],row[4],row[5],row[7])\n",
    "                               \n",
    "            "
   ]
  },
  {
   "cell_type": "code",
   "execution_count": null,
   "metadata": {},
   "outputs": [],
   "source": [
    "row[0],row[2],row[4],row[5],row[7]"
   ]
  },
  {
   "cell_type": "code",
   "execution_count": 39,
   "metadata": {},
   "outputs": [
    {
     "name": "stdout",
     "output_type": "stream",
     "text": [
      "['911100221176', '911100222070', '911100221579', '911100221144', '911100221994', '911100221641', '911100221411', '911100221895', '911100221373', '911100221462', '911100221947', '911100222080', '911100222288', '911100221948', '911100221434', '911100222074', '911100221616', '911100222391', '911100221835', '911100221802', '911100221661', '911100221839', '911100221451', '911100222224', '911100221327', '911100221592', '911100221527', '911100221730', '911100221111', '911100221817', '911100222054', '911100221360', '911100221381', '911100221566', '911100221478', '911100221727', '911100221503', '911100222236', '911100221651', '911100221564', '911100221281', '911100221413', '911100221506', '911100221524', '911100221089', '911100221180', '911100221178', '911100221127', '911100221003', '911100221165', '911100221143', '911100222012', '911100222033', '911100221265', '911100221346', '911100221656', '911100221554', '911100221426', '911100221141']\n"
     ]
    },
    {
     "data": {
      "text/plain": [
       "59"
      ]
     },
     "execution_count": 39,
     "metadata": {},
     "output_type": "execute_result"
    }
   ],
   "source": [
    "l = ['911100221003', '911100221089', '911100221111', '911100221127', '911100221141', '911100221143', '911100221144', '911100221165', '911100221176', '911100221178', '911100221180', '911100221180', '911100221265', '911100221281', '911100221089', '911100221327', '911100221346', '911100221360', '911100221373', '911100221381', '911100221411', '911100221413', '911100221426', '911100221434', '911100221434', '911100221451', '911100221462', '911100221478', '911100221503', '911100221506', '911100221524', '911100221527', '911100221554', '911100221564', '911100221566', '911100221579', '911100221592', '911100221616', '911100221641', '911100221651', '911100221656', '911100221661', '911100221727', '911100221730', '911100221802', '911100221817', '911100221835', '911100221839', '911100221895', '911100221817', '911100221947', '911100221948', '911100221994', '911100222012', '911100222033', '911100222054', '911100222070', '911100221178', '911100222074', '911100222080', '911100221839', '911100221178', '911100222012', '911100222224', '911100222236', '911100222288', '911100222391']\n",
    "k = list(set(l))\n",
    "#for i in k:\n",
    "print(k)\n",
    "len(k)"
   ]
  },
  {
   "cell_type": "code",
   "execution_count": null,
   "metadata": {},
   "outputs": [],
   "source": []
  }
 ],
 "metadata": {
  "kernelspec": {
   "display_name": "Python 3",
   "language": "python",
   "name": "python3"
  },
  "language_info": {
   "codemirror_mode": {
    "name": "ipython",
    "version": 3
   },
   "file_extension": ".py",
   "mimetype": "text/x-python",
   "name": "python",
   "nbconvert_exporter": "python",
   "pygments_lexer": "ipython3",
   "version": "3.7.4"
  }
 },
 "nbformat": 4,
 "nbformat_minor": 2
}
